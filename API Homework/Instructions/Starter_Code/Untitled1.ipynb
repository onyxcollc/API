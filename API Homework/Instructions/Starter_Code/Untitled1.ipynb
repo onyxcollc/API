{
 "cells": [
  {
   "cell_type": "code",
   "execution_count": 2,
   "metadata": {},
   "outputs": [],
   "source": [
    "import os\n",
    "import requests\n",
    "import pandas as pd\n",
    "from dotenv import load_dotenv\n",
    "import alpaca_trade_api as tradeapi\n",
    "from MCForecastTools import MCSimulation\n",
    "\n",
    "%matplotlib inline"
   ]
  },
  {
   "cell_type": "code",
   "execution_count": 3,
   "metadata": {},
   "outputs": [
    {
     "data": {
      "text/plain": [
       "True"
      ]
     },
     "execution_count": 3,
     "metadata": {},
     "output_type": "execute_result"
    }
   ],
   "source": [
    "load_dotenv()"
   ]
  },
  {
   "cell_type": "code",
   "execution_count": 4,
   "metadata": {},
   "outputs": [],
   "source": [
    "btc_crypto = 1.2\n",
    "eth_crypto = 5.3"
   ]
  },
  {
   "cell_type": "code",
   "execution_count": 5,
   "metadata": {},
   "outputs": [],
   "source": [
    "btc_url = \"https://api.alternative.me/v2/ticker/Bitcoin/?convert=CAD\"\n",
    "eth_url = \"https://api.alternative.me/v2/ticker/Ethereum/?convert=CAD\""
   ]
  },
  {
   "cell_type": "code",
   "execution_count": 6,
   "metadata": {},
   "outputs": [
    {
     "data": {
      "text/plain": [
       "11564.79"
      ]
     },
     "execution_count": 6,
     "metadata": {},
     "output_type": "execute_result"
    }
   ],
   "source": [
    "btc_response = requests.get(btc_url).json() \n",
    "btc_price = btc_response[\"data\"]['1']['quotes']['USD']['price']\n",
    "btc_price\n",
    "\n"
   ]
  },
  {
   "cell_type": "code",
   "execution_count": 9,
   "metadata": {},
   "outputs": [
    {
     "name": "stdout",
     "output_type": "stream",
     "text": [
      "{'data': {'1': {'id': 1, 'name': 'Bitcoin', 'symbol': 'BTC', 'website_slug': 'bitcoin', 'rank': 1, 'circulating_supply': 18515100, 'total_supply': 18515100, 'max_supply': 21000000, 'quotes': {'USD': {'price': 11539.65, 'volume_24h': 19849320056, 'market_cap': 213672093769, 'percentage_change_1h': -0.221054575767962, 'percentage_change_24h': 1.22157823712613, 'percentage_change_7d': 8.14336071483246, 'percent_change_1h': -0.221054575767962, 'percent_change_24h': 1.22157823712613, 'percent_change_7d': 8.14336071483246}, 'CAD': {'price': 15133.09701, 'volume_24h': 26030398321.4384, 'market_cap': 280209583768.666, 'percent_change_1h': -0.221054575767962, 'percent_change_24h': 1.22157823712613, 'percent_change_7d': 8.14336071483246}}, 'last_updated': 1602523746}}, 'metadata': {'timestamp': 1602523746, 'num_cryptocurrencies': 1438, 'error': None}}\n"
     ]
    }
   ],
   "source": [
    "btc_response = requests.get(btc_url).json() \n",
    "btc_price = btc_response[\"data\"]\n",
    "\n",
    "print(btc_response)"
   ]
  },
  {
   "cell_type": "code",
   "execution_count": null,
   "metadata": {},
   "outputs": [],
   "source": []
  }
 ],
 "metadata": {
  "kernelspec": {
   "display_name": "Python 3",
   "language": "python",
   "name": "python3"
  },
  "language_info": {
   "codemirror_mode": {
    "name": "ipython",
    "version": 3
   },
   "file_extension": ".py",
   "mimetype": "text/x-python",
   "name": "python",
   "nbconvert_exporter": "python",
   "pygments_lexer": "ipython3",
   "version": "3.7.7"
  }
 },
 "nbformat": 4,
 "nbformat_minor": 4
}
